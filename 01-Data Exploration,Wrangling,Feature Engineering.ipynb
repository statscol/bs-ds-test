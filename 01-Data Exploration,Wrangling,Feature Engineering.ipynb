{
 "cells": [
  {
   "cell_type": "markdown",
   "metadata": {},
   "source": [
    "## Bunny Studio\n",
    "### Search Data Scientist Test\n",
    "\n",
    "Objective:\n",
    "\n",
    "- Find samples(content) given a search pattern and make sure recommendations are as close as possible to the search pattern based not only on the sample metadata but also on it's creator's (pro) statistics in the platform.\n",
    "\n",
    "\n",
    "Workflow:\n",
    "\n",
    "- Read and preprocess data as described in Figure 1\n",
    "- Obtain embeddings from every sample attributes and tags\n",
    "- Export embeddings \n"
   ]
  },
  {
   "cell_type": "code",
   "execution_count": 1,
   "metadata": {},
   "outputs": [
    {
     "name": "stderr",
     "output_type": "stream",
     "text": [
      "[nltk_data] Downloading package wordnet to\n",
      "[nltk_data]     C:\\Users\\jhonp\\AppData\\Roaming\\nltk_data...\n",
      "[nltk_data]   Package wordnet is already up-to-date!\n",
      "[nltk_data] Downloading package omw-1.4 to\n",
      "[nltk_data]     C:\\Users\\jhonp\\AppData\\Roaming\\nltk_data...\n",
      "[nltk_data]   Package omw-1.4 is already up-to-date!\n"
     ]
    },
    {
     "data": {
      "text/plain": [
       "True"
      ]
     },
     "execution_count": 1,
     "metadata": {},
     "output_type": "execute_result"
    }
   ],
   "source": [
    "##lets import some libraries to read and manipulate data\n",
    "\n",
    "import pandas as pd\n",
    "import os\n",
    "import seaborn as sns\n",
    "import matplotlib.pyplot as plt\n",
    "from unidecode import unidecode\n",
    "from utils import *\n",
    "from config import ATTRIBUTES_BY_CATEGORY,MODEL_NAME_HF\n",
    "\n",
    "from sentence_transformers import SentenceTransformer\n",
    "\n",
    "model = SentenceTransformer(MODEL_NAME_HF)\n",
    "\n"
   ]
  },
  {
   "cell_type": "markdown",
   "metadata": {},
   "source": [
    "### Read Data"
   ]
  },
  {
   "cell_type": "code",
   "execution_count": 10,
   "metadata": {},
   "outputs": [
    {
     "name": "stdout",
     "output_type": "stream",
     "text": [
      "[INFO] PRO_STATS shape: (108140, 10)\n",
      "[INFO] SAMPLE_ATTRIBUTES shape: (632084, 6)\n",
      "[INFO] SAMPLE_TAGS shape: (293603, 4)\n"
     ]
    }
   ],
   "source": [
    "pro_stats=pd.read_csv(\"result/pro_stats.csv\")\n",
    "sample_attributes=pd.read_csv(\"result/sample_attributes.csv\")\n",
    "sample_tags=pd.read_csv(\"result/sample_tags.csv\")\n",
    "\n",
    "print(\"[INFO] PRO_STATS shape: {}\".format(pro_stats.shape))\n",
    "print(\"[INFO] SAMPLE_ATTRIBUTES shape: {}\".format(sample_attributes.shape))\n",
    "print(\"[INFO] SAMPLE_TAGS shape: {}\".format(sample_tags.shape))"
   ]
  },
  {
   "cell_type": "code",
   "execution_count": null,
   "metadata": {},
   "outputs": [],
   "source": [
    "#As sample attributes may have multiple kinds of attributes, we must find which ones could be filtered in order to avoid wordy "
   ]
  },
  {
   "cell_type": "markdown",
   "metadata": {},
   "source": [
    "### Exploring Sample Attributes by category\n"
   ]
  },
  {
   "cell_type": "code",
   "execution_count": 3,
   "metadata": {},
   "outputs": [
    {
     "data": {
      "text/plain": [
       "0                                           3257\n",
       "eng-us                                      1290\n",
       "-0.2                                        1106\n",
       "-0.5                                         878\n",
       "-1                                           863\n",
       "                                            ... \n",
       "Political,Racism,Xenophobia                    1\n",
       "Thriller,Fiction,Action                        1\n",
       "Poems,Creative,concise                         1\n",
       "Crime,Short,Stories,Murder                     1\n",
       "mental health,covid-19,frontline workers       1\n",
       "Name: attribute_value, Length: 1444, dtype: int64"
      ]
     },
     "execution_count": 3,
     "metadata": {},
     "output_type": "execute_result"
    }
   ],
   "source": [
    "##make descriptive plot to show how every feature per category was selected\n",
    "sample_attributes.query('category==\"article\"').attribute_value.value_counts()"
   ]
  },
  {
   "cell_type": "code",
   "execution_count": 12,
   "metadata": {},
   "outputs": [
    {
     "data": {
      "text/html": [
       "<div>\n",
       "<style scoped>\n",
       "    .dataframe tbody tr th:only-of-type {\n",
       "        vertical-align: middle;\n",
       "    }\n",
       "\n",
       "    .dataframe tbody tr th {\n",
       "        vertical-align: top;\n",
       "    }\n",
       "\n",
       "    .dataframe thead th {\n",
       "        text-align: right;\n",
       "    }\n",
       "</style>\n",
       "<table border=\"1\" class=\"dataframe\">\n",
       "  <thead>\n",
       "    <tr style=\"text-align: right;\">\n",
       "      <th></th>\n",
       "      <th>sample_id</th>\n",
       "      <th>category</th>\n",
       "      <th>pro_id</th>\n",
       "      <th>booking_score</th>\n",
       "      <th>attribute_name</th>\n",
       "      <th>attribute_value</th>\n",
       "      <th>if_article_specs</th>\n",
       "    </tr>\n",
       "  </thead>\n",
       "  <tbody>\n",
       "    <tr>\n",
       "      <th>0</th>\n",
       "      <td>7</td>\n",
       "      <td>audio</td>\n",
       "      <td>D6</td>\n",
       "      <td>0.0</td>\n",
       "      <td>purpose</td>\n",
       "      <td>phoneSystems</td>\n",
       "      <td></td>\n",
       "    </tr>\n",
       "    <tr>\n",
       "      <th>1</th>\n",
       "      <td>7</td>\n",
       "      <td>audio</td>\n",
       "      <td>D6</td>\n",
       "      <td>0.0</td>\n",
       "      <td>language_id</td>\n",
       "      <td>eng-us</td>\n",
       "      <td></td>\n",
       "    </tr>\n",
       "    <tr>\n",
       "      <th>2</th>\n",
       "      <td>7</td>\n",
       "      <td>audio</td>\n",
       "      <td>D6</td>\n",
       "      <td>0.0</td>\n",
       "      <td>gender_and_age_id</td>\n",
       "      <td>youngAdultFemale</td>\n",
       "      <td></td>\n",
       "    </tr>\n",
       "    <tr>\n",
       "      <th>3</th>\n",
       "      <td>21</td>\n",
       "      <td>audio</td>\n",
       "      <td>2362</td>\n",
       "      <td>0.0</td>\n",
       "      <td>purpose</td>\n",
       "      <td>phoneSystems</td>\n",
       "      <td></td>\n",
       "    </tr>\n",
       "    <tr>\n",
       "      <th>4</th>\n",
       "      <td>21</td>\n",
       "      <td>audio</td>\n",
       "      <td>2362</td>\n",
       "      <td>0.0</td>\n",
       "      <td>language_id</td>\n",
       "      <td>eng-us</td>\n",
       "      <td></td>\n",
       "    </tr>\n",
       "  </tbody>\n",
       "</table>\n",
       "</div>"
      ],
      "text/plain": [
       "   sample_id category pro_id  booking_score     attribute_name  \\\n",
       "0          7    audio     D6            0.0            purpose   \n",
       "1          7    audio     D6            0.0        language_id   \n",
       "2          7    audio     D6            0.0  gender_and_age_id   \n",
       "3         21    audio   2362            0.0            purpose   \n",
       "4         21    audio   2362            0.0        language_id   \n",
       "\n",
       "    attribute_value if_article_specs  \n",
       "0      phoneSystems                   \n",
       "1            eng-us                   \n",
       "2  youngAdultFemale                   \n",
       "3      phoneSystems                   \n",
       "4            eng-us                   "
      ]
     },
     "execution_count": 12,
     "metadata": {},
     "output_type": "execute_result"
    }
   ],
   "source": [
    "##fill null values with an empty string\n",
    "sample_attributes.fillna(\"\",inplace=True) \n",
    "sample_attributes.loc[:,'if_article_specs']=sample_attributes.apply(lambda k: k['attribute_name'].split(\"_\")[-1] if k['attribute_name'] in ['tone_serious_humorous','tone_sincere_sarcastic','tone_journalistic_creative'] and to_float(k['attribute_value'])>0 else \"\",axis=1)\n",
    "sample_attributes.head()"
   ]
  },
  {
   "cell_type": "code",
   "execution_count": 109,
   "metadata": {},
   "outputs": [
    {
     "data": {
      "text/plain": [
       "audio      602586\n",
       "article     22968\n",
       "video        3692\n",
       "image        2838\n",
       "Name: category, dtype: int64"
      ]
     },
     "execution_count": 109,
     "metadata": {},
     "output_type": "execute_result"
    }
   ],
   "source": [
    "sample_attributes.category.value_counts()"
   ]
  },
  {
   "cell_type": "code",
   "execution_count": 13,
   "metadata": {},
   "outputs": [],
   "source": [
    "rows_to_keep=sample_attributes.apply(lambda k: True if k['attribute_name'] in ATTRIBUTES_BY_CATEGORY[k['category']] else False, axis=1)"
   ]
  },
  {
   "cell_type": "code",
   "execution_count": 14,
   "metadata": {},
   "outputs": [],
   "source": [
    "## new sample_attributes file\n",
    "sample_attributes=sample_attributes.loc[rows_to_keep,:]"
   ]
  },
  {
   "cell_type": "code",
   "execution_count": 15,
   "metadata": {},
   "outputs": [],
   "source": [
    "#modify attributes value to be more specific\n",
    "sample_attributes.loc[:,'attribute_value']=sample_attributes.apply(lambda d: clean_sentence(str(d['attribute_value'])) if \"language\" not in d['attribute_name'] else decode_language_code(str(d['attribute_value'])),axis=1)"
   ]
  },
  {
   "cell_type": "code",
   "execution_count": 16,
   "metadata": {},
   "outputs": [],
   "source": [
    "#concatenate attribute_value in one single column\n",
    "sample_attributes.loc[:,'attribute_value']=sample_attributes.attribute_value+\"\"+sample_attributes.if_article_specs"
   ]
  },
  {
   "cell_type": "code",
   "execution_count": 17,
   "metadata": {},
   "outputs": [],
   "source": [
    "sample_attributes=sample_attributes.groupby(['sample_id','category'])['attribute_value'].agg(lambda d: \" \".join(list(set(d)))).reset_index()"
   ]
  },
  {
   "cell_type": "code",
   "execution_count": 27,
   "metadata": {},
   "outputs": [
    {
     "data": {
      "text/plain": [
       "(205301, 3)"
      ]
     },
     "execution_count": 27,
     "metadata": {},
     "output_type": "execute_result"
    }
   ],
   "source": [
    "sample_attributes.shape"
   ]
  },
  {
   "cell_type": "markdown",
   "metadata": {},
   "source": [
    "### Exploring Sample Tags"
   ]
  },
  {
   "cell_type": "code",
   "execution_count": 19,
   "metadata": {},
   "outputs": [],
   "source": [
    "sample_descriptions=sample_tags.groupby([\"sample_id\",\"category\"])[\"tag_name\"].agg(lambda d: \",\".join(list(set(d)))).reset_index()"
   ]
  },
  {
   "cell_type": "code",
   "execution_count": 20,
   "metadata": {},
   "outputs": [
    {
     "data": {
      "text/html": [
       "<div>\n",
       "<style scoped>\n",
       "    .dataframe tbody tr th:only-of-type {\n",
       "        vertical-align: middle;\n",
       "    }\n",
       "\n",
       "    .dataframe tbody tr th {\n",
       "        vertical-align: top;\n",
       "    }\n",
       "\n",
       "    .dataframe thead th {\n",
       "        text-align: right;\n",
       "    }\n",
       "</style>\n",
       "<table border=\"1\" class=\"dataframe\">\n",
       "  <thead>\n",
       "    <tr style=\"text-align: right;\">\n",
       "      <th></th>\n",
       "      <th>sample_id</th>\n",
       "      <th>category</th>\n",
       "      <th>tag_name</th>\n",
       "    </tr>\n",
       "  </thead>\n",
       "  <tbody>\n",
       "    <tr>\n",
       "      <th>0</th>\n",
       "      <td>324</td>\n",
       "      <td>audio</td>\n",
       "      <td>articulate neutral phone operator vibrant engl...</td>\n",
       "    </tr>\n",
       "    <tr>\n",
       "      <th>1</th>\n",
       "      <td>350</td>\n",
       "      <td>audio</td>\n",
       "      <td>approachable educational calm</td>\n",
       "    </tr>\n",
       "    <tr>\n",
       "      <th>2</th>\n",
       "      <td>441</td>\n",
       "      <td>audio</td>\n",
       "      <td>announcer approachable neutral informative eng...</td>\n",
       "    </tr>\n",
       "    <tr>\n",
       "      <th>3</th>\n",
       "      <td>499</td>\n",
       "      <td>audio</td>\n",
       "      <td>storyteller neutral authentic english us gener...</td>\n",
       "    </tr>\n",
       "    <tr>\n",
       "      <th>4</th>\n",
       "      <td>964</td>\n",
       "      <td>audio</td>\n",
       "      <td>serious neutral attentive english us general a...</td>\n",
       "    </tr>\n",
       "  </tbody>\n",
       "</table>\n",
       "</div>"
      ],
      "text/plain": [
       "   sample_id category                                           tag_name\n",
       "0        324    audio  articulate neutral phone operator vibrant engl...\n",
       "1        350    audio                      approachable educational calm\n",
       "2        441    audio  announcer approachable neutral informative eng...\n",
       "3        499    audio  storyteller neutral authentic english us gener...\n",
       "4        964    audio  serious neutral attentive english us general a..."
      ]
     },
     "execution_count": 20,
     "metadata": {},
     "output_type": "execute_result"
    }
   ],
   "source": [
    "sample_descriptions.loc[:,'tag_name']=sample_descriptions.tag_name.apply(lambda d: remove_multispaces(remove_special_characters(d.lower(),replacement=\" \")))\n",
    "sample_descriptions.head()"
   ]
  },
  {
   "cell_type": "code",
   "execution_count": 22,
   "metadata": {},
   "outputs": [
    {
     "data": {
      "text/html": [
       "<div>\n",
       "<style scoped>\n",
       "    .dataframe tbody tr th:only-of-type {\n",
       "        vertical-align: middle;\n",
       "    }\n",
       "\n",
       "    .dataframe tbody tr th {\n",
       "        vertical-align: top;\n",
       "    }\n",
       "\n",
       "    .dataframe thead th {\n",
       "        text-align: right;\n",
       "    }\n",
       "</style>\n",
       "<table border=\"1\" class=\"dataframe\">\n",
       "  <thead>\n",
       "    <tr style=\"text-align: right;\">\n",
       "      <th></th>\n",
       "      <th>sample_id</th>\n",
       "      <th>category</th>\n",
       "      <th>attribute_value</th>\n",
       "      <th>tag_name</th>\n",
       "    </tr>\n",
       "  </thead>\n",
       "  <tbody>\n",
       "    <tr>\n",
       "      <th>0</th>\n",
       "      <td>324</td>\n",
       "      <td>audio</td>\n",
       "      <td>phone system middle age female english american</td>\n",
       "      <td>articulate neutral phone operator vibrant engl...</td>\n",
       "    </tr>\n",
       "    <tr>\n",
       "      <th>1</th>\n",
       "      <td>350</td>\n",
       "      <td>audio</td>\n",
       "      <td>radio tv ad middle age male english american</td>\n",
       "      <td>approachable educational calm</td>\n",
       "    </tr>\n",
       "    <tr>\n",
       "      <th>2</th>\n",
       "      <td>441</td>\n",
       "      <td>audio</td>\n",
       "      <td>phone system middle age gender english american</td>\n",
       "      <td>announcer approachable neutral informative eng...</td>\n",
       "    </tr>\n",
       "    <tr>\n",
       "      <th>3</th>\n",
       "      <td>499</td>\n",
       "      <td>audio</td>\n",
       "      <td>audiobooks podcasts senior gender english amer...</td>\n",
       "      <td>storyteller neutral authentic english us gener...</td>\n",
       "    </tr>\n",
       "    <tr>\n",
       "      <th>4</th>\n",
       "      <td>964</td>\n",
       "      <td>audio</td>\n",
       "      <td>presentation educational middle age gender eng...</td>\n",
       "      <td>serious neutral attentive english us general a...</td>\n",
       "    </tr>\n",
       "  </tbody>\n",
       "</table>\n",
       "</div>"
      ],
      "text/plain": [
       "   sample_id category                                    attribute_value  \\\n",
       "0        324    audio    phone system middle age female english american   \n",
       "1        350    audio       radio tv ad middle age male english american   \n",
       "2        441    audio    phone system middle age gender english american   \n",
       "3        499    audio  audiobooks podcasts senior gender english amer...   \n",
       "4        964    audio  presentation educational middle age gender eng...   \n",
       "\n",
       "                                            tag_name  \n",
       "0  articulate neutral phone operator vibrant engl...  \n",
       "1                      approachable educational calm  \n",
       "2  announcer approachable neutral informative eng...  \n",
       "3  storyteller neutral authentic english us gener...  \n",
       "4  serious neutral attentive english us general a...  "
      ]
     },
     "execution_count": 22,
     "metadata": {},
     "output_type": "execute_result"
    }
   ],
   "source": [
    "samples_composed_data=sample_attributes.merge(sample_descriptions,on=['sample_id','category'],how=\"inner\")\n",
    "samples_composed_data.head()"
   ]
  },
  {
   "cell_type": "code",
   "execution_count": 23,
   "metadata": {},
   "outputs": [],
   "source": [
    "samples_composed_data.loc[:,'embeddings_attributes']=samples_composed_data.attribute_value.apply(lambda d: model.encode(d))\n",
    "samples_composed_data.loc[:,'embeddings_tags']=samples_composed_data.tag_name.apply(lambda d: model.encode(d))"
   ]
  },
  {
   "cell_type": "code",
   "execution_count": 51,
   "metadata": {},
   "outputs": [],
   "source": [
    "##average embeddings\n",
    "samples_composed_data.loc[:,'avg_embeddings']=samples_composed_data.apply(lambda k: (k['embeddings_attributes']+k['embeddings_tags'])/2 if k['tag_name']!=\"\" else k['embeddings_attributes'],axis=1)\n"
   ]
  },
  {
   "cell_type": "code",
   "execution_count": 52,
   "metadata": {},
   "outputs": [],
   "source": [
    "## Checkpoint: Save Embeddings to a file to unnecessarily processing datasets\n",
    "samples_composed_data.drop(columns=['embeddings_attributes','embeddings_tags']).to_pickle(\"samples_composed_data.pkl\")"
   ]
  },
  {
   "cell_type": "code",
   "execution_count": 56,
   "metadata": {},
   "outputs": [
    {
     "data": {
      "text/plain": [
       "(65410, 8)"
      ]
     },
     "execution_count": 56,
     "metadata": {},
     "output_type": "execute_result"
    }
   ],
   "source": [
    "samples_composed_data.shape"
   ]
  },
  {
   "cell_type": "code",
   "execution_count": 57,
   "metadata": {},
   "outputs": [],
   "source": [
    "samples_composed_data=pd.read_pickle(\"samples_composed_data.pkl\")"
   ]
  },
  {
   "cell_type": "code",
   "execution_count": 58,
   "metadata": {},
   "outputs": [
    {
     "data": {
      "text/html": [
       "<div>\n",
       "<style scoped>\n",
       "    .dataframe tbody tr th:only-of-type {\n",
       "        vertical-align: middle;\n",
       "    }\n",
       "\n",
       "    .dataframe tbody tr th {\n",
       "        vertical-align: top;\n",
       "    }\n",
       "\n",
       "    .dataframe thead th {\n",
       "        text-align: right;\n",
       "    }\n",
       "</style>\n",
       "<table border=\"1\" class=\"dataframe\">\n",
       "  <thead>\n",
       "    <tr style=\"text-align: right;\">\n",
       "      <th></th>\n",
       "      <th>sample_id</th>\n",
       "      <th>category</th>\n",
       "      <th>attribute_value</th>\n",
       "      <th>tag_name</th>\n",
       "      <th>avg_embeddings</th>\n",
       "    </tr>\n",
       "  </thead>\n",
       "  <tbody>\n",
       "    <tr>\n",
       "      <th>0</th>\n",
       "      <td>324</td>\n",
       "      <td>audio</td>\n",
       "      <td>phone system middle age female english american</td>\n",
       "      <td>articulate neutral phone operator vibrant engl...</td>\n",
       "      <td>[-0.033360533, 0.022383057, -0.042735875, -0.0...</td>\n",
       "    </tr>\n",
       "    <tr>\n",
       "      <th>1</th>\n",
       "      <td>350</td>\n",
       "      <td>audio</td>\n",
       "      <td>radio tv ad middle age male english american</td>\n",
       "      <td>approachable educational calm</td>\n",
       "      <td>[0.05191251, 0.04593984, -0.014720706, -0.0286...</td>\n",
       "    </tr>\n",
       "    <tr>\n",
       "      <th>2</th>\n",
       "      <td>441</td>\n",
       "      <td>audio</td>\n",
       "      <td>phone system middle age gender english american</td>\n",
       "      <td>announcer approachable neutral informative eng...</td>\n",
       "      <td>[-0.018108007, 0.013963416, -0.06848956, -0.08...</td>\n",
       "    </tr>\n",
       "    <tr>\n",
       "      <th>3</th>\n",
       "      <td>499</td>\n",
       "      <td>audio</td>\n",
       "      <td>audiobooks podcasts senior gender english amer...</td>\n",
       "      <td>storyteller neutral authentic english us gener...</td>\n",
       "      <td>[0.0032551463, -0.056001894, -0.07373111, -0.0...</td>\n",
       "    </tr>\n",
       "    <tr>\n",
       "      <th>4</th>\n",
       "      <td>964</td>\n",
       "      <td>audio</td>\n",
       "      <td>presentation educational middle age gender eng...</td>\n",
       "      <td>serious neutral attentive english us general a...</td>\n",
       "      <td>[0.07064739, 0.024581958, -0.02573366, -0.0170...</td>\n",
       "    </tr>\n",
       "    <tr>\n",
       "      <th>...</th>\n",
       "      <td>...</td>\n",
       "      <td>...</td>\n",
       "      <td>...</td>\n",
       "      <td>...</td>\n",
       "      <td>...</td>\n",
       "    </tr>\n",
       "    <tr>\n",
       "      <th>65405</th>\n",
       "      <td>525119</td>\n",
       "      <td>audio</td>\n",
       "      <td>middle age male radio tv ad english american</td>\n",
       "      <td>natural friendly believable conversational tru...</td>\n",
       "      <td>[0.008179849, -0.027468357, -0.049302094, -0.0...</td>\n",
       "    </tr>\n",
       "    <tr>\n",
       "      <th>65406</th>\n",
       "      <td>525126</td>\n",
       "      <td>audio</td>\n",
       "      <td>senior male movie trailer english american</td>\n",
       "      <td>english us southern deep gravely sam elliot co...</td>\n",
       "      <td>[-0.022263903, -0.01084226, -0.058256976, -0.0...</td>\n",
       "    </tr>\n",
       "    <tr>\n",
       "      <th>65407</th>\n",
       "      <td>525138</td>\n",
       "      <td>audio</td>\n",
       "      <td>senior male videogames english american afr</td>\n",
       "      <td>deep calm james earl jones commanding king aut...</td>\n",
       "      <td>[-0.029892016, -0.0022064876, 0.01211681, -0.0...</td>\n",
       "    </tr>\n",
       "    <tr>\n",
       "      <th>65408</th>\n",
       "      <td>525154</td>\n",
       "      <td>audio</td>\n",
       "      <td>radio tv ad french france young adult female</td>\n",
       "      <td>conversational professional friendly mysterious</td>\n",
       "      <td>[-0.021844044, 0.034046784, -0.026430318, -0.0...</td>\n",
       "    </tr>\n",
       "    <tr>\n",
       "      <th>65409</th>\n",
       "      <td>525159</td>\n",
       "      <td>audio</td>\n",
       "      <td>radio tv ad young adult male english american afr</td>\n",
       "      <td>calm casual confident low conversational engli...</td>\n",
       "      <td>[0.037401244, -0.0306537, -0.021060625, -0.045...</td>\n",
       "    </tr>\n",
       "  </tbody>\n",
       "</table>\n",
       "<p>65410 rows × 5 columns</p>\n",
       "</div>"
      ],
      "text/plain": [
       "       sample_id category                                    attribute_value  \\\n",
       "0            324    audio    phone system middle age female english american   \n",
       "1            350    audio       radio tv ad middle age male english american   \n",
       "2            441    audio    phone system middle age gender english american   \n",
       "3            499    audio  audiobooks podcasts senior gender english amer...   \n",
       "4            964    audio  presentation educational middle age gender eng...   \n",
       "...          ...      ...                                                ...   \n",
       "65405     525119    audio       middle age male radio tv ad english american   \n",
       "65406     525126    audio         senior male movie trailer english american   \n",
       "65407     525138    audio        senior male videogames english american afr   \n",
       "65408     525154    audio       radio tv ad french france young adult female   \n",
       "65409     525159    audio  radio tv ad young adult male english american afr   \n",
       "\n",
       "                                                tag_name  \\\n",
       "0      articulate neutral phone operator vibrant engl...   \n",
       "1                          approachable educational calm   \n",
       "2      announcer approachable neutral informative eng...   \n",
       "3      storyteller neutral authentic english us gener...   \n",
       "4      serious neutral attentive english us general a...   \n",
       "...                                                  ...   \n",
       "65405  natural friendly believable conversational tru...   \n",
       "65406  english us southern deep gravely sam elliot co...   \n",
       "65407  deep calm james earl jones commanding king aut...   \n",
       "65408    conversational professional friendly mysterious   \n",
       "65409  calm casual confident low conversational engli...   \n",
       "\n",
       "                                          avg_embeddings  \n",
       "0      [-0.033360533, 0.022383057, -0.042735875, -0.0...  \n",
       "1      [0.05191251, 0.04593984, -0.014720706, -0.0286...  \n",
       "2      [-0.018108007, 0.013963416, -0.06848956, -0.08...  \n",
       "3      [0.0032551463, -0.056001894, -0.07373111, -0.0...  \n",
       "4      [0.07064739, 0.024581958, -0.02573366, -0.0170...  \n",
       "...                                                  ...  \n",
       "65405  [0.008179849, -0.027468357, -0.049302094, -0.0...  \n",
       "65406  [-0.022263903, -0.01084226, -0.058256976, -0.0...  \n",
       "65407  [-0.029892016, -0.0022064876, 0.01211681, -0.0...  \n",
       "65408  [-0.021844044, 0.034046784, -0.026430318, -0.0...  \n",
       "65409  [0.037401244, -0.0306537, -0.021060625, -0.045...  \n",
       "\n",
       "[65410 rows x 5 columns]"
      ]
     },
     "execution_count": 58,
     "metadata": {},
     "output_type": "execute_result"
    }
   ],
   "source": [
    "samples_composed_data"
   ]
  },
  {
   "cell_type": "code",
   "execution_count": null,
   "metadata": {},
   "outputs": [],
   "source": [
    "##join tags and samples and remove duplicated words \n",
    "##generate embeddings for descriptions and search terms"
   ]
  },
  {
   "cell_type": "code",
   "execution_count": 34,
   "metadata": {},
   "outputs": [
    {
     "data": {
      "text/plain": [
       "0.6134414"
      ]
     },
     "execution_count": 34,
     "metadata": {},
     "output_type": "execute_result"
    }
   ],
   "source": [
    "from sentence_transformers import util\n",
    "\n",
    "def cosine_sim(vec1,vec2):\n",
    "    return np.dot(vec1, vec2)/(np.linalg.norm(vec1)*np.linalg.norm(vec2))\n",
    "\n",
    "sentence1=\"british\"\n",
    "sentence2=\"united kingdom\"\n",
    "emb1=model.encode(sentence1)\n",
    "emb2=model.encode(sentence2)\n",
    "\n",
    "cosine_sim(emb1,emb2)"
   ]
  },
  {
   "cell_type": "code",
   "execution_count": 32,
   "metadata": {},
   "outputs": [
    {
     "name": "stdout",
     "output_type": "stream",
     "text": [
      "british voice over\n",
      "british voice\n"
     ]
    }
   ],
   "source": [
    "search=\"uk voice over\"\n",
    "search=decode_language_code(search,sep=\" \")\n",
    "print(search)\n",
    "search=clean_sentence(search)\n",
    "print(search)\n",
    "embeddings_search=model.encode(search)\n"
   ]
  },
  {
   "cell_type": "code",
   "execution_count": 36,
   "metadata": {},
   "outputs": [],
   "source": [
    "samples_composed_data.loc[:,'sim_attributes']=samples_composed_data.embeddings_attributes.apply(lambda d: cosine_sim(d,embeddings_search))"
   ]
  },
  {
   "cell_type": "code",
   "execution_count": null,
   "metadata": {},
   "outputs": [],
   "source": [
    "samples_composed_data.loc[:,'sim_tags']=samples_composed_data.embeddings_attributes.apply(lambda d: cosine_sim(d,embeddings_search))"
   ]
  },
  {
   "cell_type": "code",
   "execution_count": 94,
   "metadata": {},
   "outputs": [],
   "source": [
    "class SearchRecommender:\n",
    "    \n",
    "    def __init__(self,samples_filepath: str,pros_filepath: str,tags_filepath: str,separator=\",\"):\n",
    "        \n",
    "        self.samples=samples_composed_data\n",
    "        self.pros=pd.read_csv(pros_filepath,sep=separator)\n",
    "        self.model=SentenceTransformer(MODEL_NAME_HF)\n",
    "\n",
    "\n",
    "    @staticmethod\n",
    "    def preprocess_data():\n",
    "        pass\n",
    "\n",
    "    def detect_intent(search: str):\n",
    "        pass\n",
    "\n",
    "    def suggest_samples(self,search: str,top_n: int=50):\n",
    "        search=decode_language_code(search,sep=\" \")\n",
    "        search=clean_sentence(search)\n",
    "        search_emb=self.model.encode(search)\n",
    "\n",
    "\n",
    "\n",
    "    \n",
    "        "
   ]
  }
 ],
 "metadata": {
  "interpreter": {
   "hash": "94f342b5774f3b0269f7de90f71f08146fbd0694077eadaf6e909336ed9c3d31"
  },
  "kernelspec": {
   "display_name": "Python 3.9.5 64-bit ('base': conda)",
   "language": "python",
   "name": "python3"
  },
  "language_info": {
   "codemirror_mode": {
    "name": "ipython",
    "version": 3
   },
   "file_extension": ".py",
   "mimetype": "text/x-python",
   "name": "python",
   "nbconvert_exporter": "python",
   "pygments_lexer": "ipython3",
   "version": "3.9.5"
  },
  "orig_nbformat": 4
 },
 "nbformat": 4,
 "nbformat_minor": 2
}
