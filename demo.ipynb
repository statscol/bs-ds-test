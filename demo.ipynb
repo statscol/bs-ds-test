{
 "cells": [
  {
   "cell_type": "code",
   "execution_count": 42,
   "metadata": {},
   "outputs": [],
   "source": [
    "import pandas as pd\n",
    "import os\n",
    "import numpy as np\n"
   ]
  },
  {
   "cell_type": "code",
   "execution_count": 39,
   "metadata": {},
   "outputs": [
    {
     "data": {
      "text/plain": [
       "['Voice over english uk',\n",
       " 'Voice over eng usa',\n",
       " 'Male voice over',\n",
       " 'Female',\n",
       " 'Young adult voice over',\n",
       " 'French blog post',\n",
       " 'Morgan Freeman',\n",
       " 'Child voice for videogame character',\n",
       " 'Elegant man voice for advertising in english',\n",
       " 'Female commercial voice in Spanish',\n",
       " 'Phone system female voice actor',\n",
       " 'Animations 2D characters',\n",
       " 'Icons for Facebook',\n",
       " 'Blog for government',\n",
       " 'Social media post',\n",
       " 'Geology',\n",
       " 'Funny blogpost',\n",
       " 'Ads video',\n",
       " 'Piano music',\n",
       " 'Voice for radio advertisement']"
      ]
     },
     "execution_count": 39,
     "metadata": {},
     "output_type": "execute_result"
    }
   ],
   "source": [
    "with open(\"search_terms.txt\",\"r\") as f:\n",
    "    file=[line.replace(\"\\n\",\"\").strip() for line in f.readlines()]\n",
    "\n",
    "file\n"
   ]
  },
  {
   "cell_type": "code",
   "execution_count": 21,
   "metadata": {},
   "outputs": [
    {
     "name": "stderr",
     "output_type": "stream",
     "text": [
      "[nltk_data] Downloading package wordnet to\n",
      "[nltk_data]     C:\\Users\\jhonp\\AppData\\Roaming\\nltk_data...\n",
      "[nltk_data]   Package wordnet is already up-to-date!\n",
      "[nltk_data] Downloading package omw-1.4 to\n",
      "[nltk_data]     C:\\Users\\jhonp\\AppData\\Roaming\\nltk_data...\n",
      "[nltk_data]   Unzipping corpora\\omw-1.4.zip.\n"
     ]
    },
    {
     "data": {
      "text/plain": [
       "True"
      ]
     },
     "execution_count": 21,
     "metadata": {},
     "output_type": "execute_result"
    }
   ],
   "source": [
    "import nltk\n",
    "from unidecode import unidecode\n",
    "from nltk.stem import WordNetLemmatizer\n",
    "\n",
    "nltk.download('wordnet')\n",
    "nltk.download('omw-1.4')"
   ]
  },
  {
   "cell_type": "code",
   "execution_count": 246,
   "metadata": {},
   "outputs": [],
   "source": [
    "import spacy\n",
    "nlp = spacy.load('en_core_web_sm')\n",
    "\n",
    "stopwords = nlp.Defaults.stop_words"
   ]
  },
  {
   "cell_type": "code",
   "execution_count": 256,
   "metadata": {},
   "outputs": [
    {
     "data": {
      "text/plain": [
       "'catedral not house'"
      ]
     },
     "execution_count": 256,
     "metadata": {},
     "output_type": "execute_result"
    }
   ],
   "source": [
    "import re \n",
    "finder=re.compile(pattern='[^A-Za-z0-9 ]+')\n",
    "lemmatizer = WordNetLemmatizer()\n",
    "\n",
    "\n",
    "def remove_special_characters(sentence: str,finder=finder,replacement=\"\"):\n",
    "    return re.sub(finder,replacement,sentence.lower())\n",
    "\n",
    "\n",
    "def clean_sentence(sentence: str,finder=finder,lemmatizer=lemmatizer):\n",
    "    \"\"\"\n",
    "    lemmatize, remove special characters, accents and standardize a sentence\n",
    "    \"\"\"\n",
    "\n",
    "    sentence=re.sub(\"([A-Z])\", r' \\1', sentence) # separate words by uppercase letters eg. telephoneNumber -> telephone Number\n",
    "    sentence=remove_special_characters(sentence,finder=finder)\n",
    "    sentence=[lemmatizer.lemmatize(word) for word in sentence.split(\" \")]  #lemmatize by noun\n",
    "    sentence=[word for word in sentence if word not in stopwords or word==\"not\"] # remove stopword, however negation matters!\n",
    "    return \" \".join(sentence).strip()\n",
    "\n",
    "clean_sentence(\"i am in a catedral using not have house\")"
   ]
  },
  {
   "cell_type": "code",
   "execution_count": 49,
   "metadata": {},
   "outputs": [
    {
     "data": {
      "text/plain": [
       "audio      602586\n",
       "article     22968\n",
       "video        3692\n",
       "image        2838\n",
       "Name: category, dtype: int64"
      ]
     },
     "execution_count": 49,
     "metadata": {},
     "output_type": "execute_result"
    }
   ],
   "source": [
    "def augment_sample(id,category):\n",
    "    pass"
   ]
  },
  {
   "cell_type": "code",
   "execution_count": 302,
   "metadata": {},
   "outputs": [
    {
     "name": "stdout",
     "output_type": "stream",
     "text": [
      "(108140, 10)\n"
     ]
    },
    {
     "data": {
      "text/html": [
       "<div>\n",
       "<style scoped>\n",
       "    .dataframe tbody tr th:only-of-type {\n",
       "        vertical-align: middle;\n",
       "    }\n",
       "\n",
       "    .dataframe tbody tr th {\n",
       "        vertical-align: top;\n",
       "    }\n",
       "\n",
       "    .dataframe thead th {\n",
       "        text-align: right;\n",
       "    }\n",
       "</style>\n",
       "<table border=\"1\" class=\"dataframe\">\n",
       "  <thead>\n",
       "    <tr style=\"text-align: right;\">\n",
       "      <th></th>\n",
       "      <th>pro_id</th>\n",
       "      <th>bookings</th>\n",
       "      <th>expired_samples</th>\n",
       "      <th>samples_rejected_internally</th>\n",
       "      <th>speed_to_book</th>\n",
       "      <th>average_review</th>\n",
       "      <th>num_favorites</th>\n",
       "      <th>category</th>\n",
       "      <th>successful_bookings</th>\n",
       "      <th>successful_projects</th>\n",
       "    </tr>\n",
       "  </thead>\n",
       "  <tbody>\n",
       "    <tr>\n",
       "      <th>0</th>\n",
       "      <td>A</td>\n",
       "      <td>0</td>\n",
       "      <td>0</td>\n",
       "      <td>0</td>\n",
       "      <td>NaN</td>\n",
       "      <td>NaN</td>\n",
       "      <td>0</td>\n",
       "      <td>audio</td>\n",
       "      <td>0</td>\n",
       "      <td>0</td>\n",
       "    </tr>\n",
       "    <tr>\n",
       "      <th>1</th>\n",
       "      <td>E</td>\n",
       "      <td>0</td>\n",
       "      <td>0</td>\n",
       "      <td>0</td>\n",
       "      <td>NaN</td>\n",
       "      <td>NaN</td>\n",
       "      <td>0</td>\n",
       "      <td>audio</td>\n",
       "      <td>0</td>\n",
       "      <td>0</td>\n",
       "    </tr>\n",
       "    <tr>\n",
       "      <th>2</th>\n",
       "      <td>13</td>\n",
       "      <td>0</td>\n",
       "      <td>0</td>\n",
       "      <td>0</td>\n",
       "      <td>NaN</td>\n",
       "      <td>NaN</td>\n",
       "      <td>0</td>\n",
       "      <td>audio</td>\n",
       "      <td>0</td>\n",
       "      <td>0</td>\n",
       "    </tr>\n",
       "    <tr>\n",
       "      <th>3</th>\n",
       "      <td>18</td>\n",
       "      <td>0</td>\n",
       "      <td>0</td>\n",
       "      <td>0</td>\n",
       "      <td>NaN</td>\n",
       "      <td>NaN</td>\n",
       "      <td>0</td>\n",
       "      <td>audio</td>\n",
       "      <td>0</td>\n",
       "      <td>0</td>\n",
       "    </tr>\n",
       "    <tr>\n",
       "      <th>4</th>\n",
       "      <td>1637D</td>\n",
       "      <td>0</td>\n",
       "      <td>0</td>\n",
       "      <td>0</td>\n",
       "      <td>NaN</td>\n",
       "      <td>NaN</td>\n",
       "      <td>0</td>\n",
       "      <td>audio</td>\n",
       "      <td>0</td>\n",
       "      <td>0</td>\n",
       "    </tr>\n",
       "  </tbody>\n",
       "</table>\n",
       "</div>"
      ],
      "text/plain": [
       "  pro_id  bookings  expired_samples  samples_rejected_internally  \\\n",
       "0      A         0                0                            0   \n",
       "1      E         0                0                            0   \n",
       "2     13         0                0                            0   \n",
       "3     18         0                0                            0   \n",
       "4  1637D         0                0                            0   \n",
       "\n",
       "   speed_to_book  average_review  num_favorites category  successful_bookings  \\\n",
       "0            NaN             NaN              0    audio                    0   \n",
       "1            NaN             NaN              0    audio                    0   \n",
       "2            NaN             NaN              0    audio                    0   \n",
       "3            NaN             NaN              0    audio                    0   \n",
       "4            NaN             NaN              0    audio                    0   \n",
       "\n",
       "   successful_projects  \n",
       "0                    0  \n",
       "1                    0  \n",
       "2                    0  \n",
       "3                    0  \n",
       "4                    0  "
      ]
     },
     "execution_count": 302,
     "metadata": {},
     "output_type": "execute_result"
    }
   ],
   "source": [
    "pro_stats=pd.read_csv(\"result/pro_stats.csv\")\n",
    "sample_attributes=pd.read_csv(\"result/sample_attributes.csv\")\n",
    "sample_tags=pd.read_csv(\"result/sample_tags.csv\")\n",
    "print(pro_stats.shape)\n",
    "pro_stats.head()"
   ]
  },
  {
   "cell_type": "code",
   "execution_count": 305,
   "metadata": {},
   "outputs": [
    {
     "data": {
      "text/html": [
       "<div>\n",
       "<style scoped>\n",
       "    .dataframe tbody tr th:only-of-type {\n",
       "        vertical-align: middle;\n",
       "    }\n",
       "\n",
       "    .dataframe tbody tr th {\n",
       "        vertical-align: top;\n",
       "    }\n",
       "\n",
       "    .dataframe thead th {\n",
       "        text-align: right;\n",
       "    }\n",
       "</style>\n",
       "<table border=\"1\" class=\"dataframe\">\n",
       "  <thead>\n",
       "    <tr style=\"text-align: right;\">\n",
       "      <th></th>\n",
       "      <th>sample_id</th>\n",
       "      <th>category</th>\n",
       "      <th>pro_id</th>\n",
       "      <th>booking_score</th>\n",
       "      <th>attribute_name</th>\n",
       "      <th>attribute_value</th>\n",
       "    </tr>\n",
       "  </thead>\n",
       "  <tbody>\n",
       "    <tr>\n",
       "      <th>631188</th>\n",
       "      <td>524487</td>\n",
       "      <td>article</td>\n",
       "      <td>26F1C9</td>\n",
       "      <td>0.0</td>\n",
       "      <td>voice</td>\n",
       "      <td>first-person</td>\n",
       "    </tr>\n",
       "    <tr>\n",
       "      <th>631189</th>\n",
       "      <td>524487</td>\n",
       "      <td>article</td>\n",
       "      <td>26F1C9</td>\n",
       "      <td>0.0</td>\n",
       "      <td>tone_serious_humorous</td>\n",
       "      <td>0.2</td>\n",
       "    </tr>\n",
       "    <tr>\n",
       "      <th>631190</th>\n",
       "      <td>524487</td>\n",
       "      <td>article</td>\n",
       "      <td>26F1C9</td>\n",
       "      <td>0.0</td>\n",
       "      <td>tone_concise_wordy</td>\n",
       "      <td>0</td>\n",
       "    </tr>\n",
       "    <tr>\n",
       "      <th>631191</th>\n",
       "      <td>524487</td>\n",
       "      <td>article</td>\n",
       "      <td>26F1C9</td>\n",
       "      <td>0.0</td>\n",
       "      <td>tone_objective_opinionated</td>\n",
       "      <td>0.2</td>\n",
       "    </tr>\n",
       "    <tr>\n",
       "      <th>631192</th>\n",
       "      <td>524487</td>\n",
       "      <td>article</td>\n",
       "      <td>26F1C9</td>\n",
       "      <td>0.0</td>\n",
       "      <td>tone_sincere_sarcastic</td>\n",
       "      <td>0</td>\n",
       "    </tr>\n",
       "    <tr>\n",
       "      <th>631193</th>\n",
       "      <td>524487</td>\n",
       "      <td>article</td>\n",
       "      <td>26F1C9</td>\n",
       "      <td>0.0</td>\n",
       "      <td>tone_journalistic_creative</td>\n",
       "      <td>0.2</td>\n",
       "    </tr>\n",
       "    <tr>\n",
       "      <th>631194</th>\n",
       "      <td>524487</td>\n",
       "      <td>article</td>\n",
       "      <td>26F1C9</td>\n",
       "      <td>0.0</td>\n",
       "      <td>article_language_id</td>\n",
       "      <td>eng-us</td>\n",
       "    </tr>\n",
       "    <tr>\n",
       "      <th>631195</th>\n",
       "      <td>524487</td>\n",
       "      <td>article</td>\n",
       "      <td>26F1C9</td>\n",
       "      <td>0.0</td>\n",
       "      <td>keywords</td>\n",
       "      <td>writing,motivational,self-help</td>\n",
       "    </tr>\n",
       "    <tr>\n",
       "      <th>631196</th>\n",
       "      <td>524487</td>\n",
       "      <td>article</td>\n",
       "      <td>26F1C9</td>\n",
       "      <td>0.0</td>\n",
       "      <td>article_structure</td>\n",
       "      <td>any</td>\n",
       "    </tr>\n",
       "  </tbody>\n",
       "</table>\n",
       "</div>"
      ],
      "text/plain": [
       "        sample_id category  pro_id  booking_score              attribute_name  \\\n",
       "631188     524487  article  26F1C9            0.0                       voice   \n",
       "631189     524487  article  26F1C9            0.0       tone_serious_humorous   \n",
       "631190     524487  article  26F1C9            0.0          tone_concise_wordy   \n",
       "631191     524487  article  26F1C9            0.0  tone_objective_opinionated   \n",
       "631192     524487  article  26F1C9            0.0      tone_sincere_sarcastic   \n",
       "631193     524487  article  26F1C9            0.0  tone_journalistic_creative   \n",
       "631194     524487  article  26F1C9            0.0         article_language_id   \n",
       "631195     524487  article  26F1C9            0.0                    keywords   \n",
       "631196     524487  article  26F1C9            0.0           article_structure   \n",
       "\n",
       "                       attribute_value  \n",
       "631188                    first-person  \n",
       "631189                             0.2  \n",
       "631190                               0  \n",
       "631191                             0.2  \n",
       "631192                               0  \n",
       "631193                             0.2  \n",
       "631194                          eng-us  \n",
       "631195  writing,motivational,self-help  \n",
       "631196                             any  "
      ]
     },
     "execution_count": 305,
     "metadata": {},
     "output_type": "execute_result"
    }
   ],
   "source": [
    "sample_attributes.query(\"sample_id==524487\")"
   ]
  },
  {
   "cell_type": "code",
   "execution_count": null,
   "metadata": {},
   "outputs": [],
   "source": [
    "##make descriptive plot to show how every feature per category was selected\n",
    "sample_attributes.query('category==\"article\"').attribute_name.value_counts()"
   ]
  },
  {
   "cell_type": "code",
   "execution_count": 193,
   "metadata": {},
   "outputs": [],
   "source": [
    "def to_float(text):\n",
    "    try:\n",
    "        value=float(text)\n",
    "        return value\n",
    "    except:\n",
    "        return text"
   ]
  },
  {
   "cell_type": "code",
   "execution_count": 293,
   "metadata": {},
   "outputs": [
    {
     "data": {
      "text/html": [
       "<div>\n",
       "<style scoped>\n",
       "    .dataframe tbody tr th:only-of-type {\n",
       "        vertical-align: middle;\n",
       "    }\n",
       "\n",
       "    .dataframe tbody tr th {\n",
       "        vertical-align: top;\n",
       "    }\n",
       "\n",
       "    .dataframe thead th {\n",
       "        text-align: right;\n",
       "    }\n",
       "</style>\n",
       "<table border=\"1\" class=\"dataframe\">\n",
       "  <thead>\n",
       "    <tr style=\"text-align: right;\">\n",
       "      <th></th>\n",
       "      <th>sample_id</th>\n",
       "      <th>category</th>\n",
       "      <th>pro_id</th>\n",
       "      <th>booking_score</th>\n",
       "      <th>attribute_name</th>\n",
       "      <th>attribute_value</th>\n",
       "      <th>if_article_specs</th>\n",
       "    </tr>\n",
       "  </thead>\n",
       "  <tbody>\n",
       "    <tr>\n",
       "      <th>0</th>\n",
       "      <td>7</td>\n",
       "      <td>audio</td>\n",
       "      <td>D6</td>\n",
       "      <td>0.0</td>\n",
       "      <td>purpose</td>\n",
       "      <td>phoneSystems</td>\n",
       "      <td></td>\n",
       "    </tr>\n",
       "    <tr>\n",
       "      <th>1</th>\n",
       "      <td>7</td>\n",
       "      <td>audio</td>\n",
       "      <td>D6</td>\n",
       "      <td>0.0</td>\n",
       "      <td>language_id</td>\n",
       "      <td>eng-us</td>\n",
       "      <td></td>\n",
       "    </tr>\n",
       "    <tr>\n",
       "      <th>2</th>\n",
       "      <td>7</td>\n",
       "      <td>audio</td>\n",
       "      <td>D6</td>\n",
       "      <td>0.0</td>\n",
       "      <td>gender_and_age_id</td>\n",
       "      <td>youngAdultFemale</td>\n",
       "      <td></td>\n",
       "    </tr>\n",
       "    <tr>\n",
       "      <th>3</th>\n",
       "      <td>21</td>\n",
       "      <td>audio</td>\n",
       "      <td>2362</td>\n",
       "      <td>0.0</td>\n",
       "      <td>purpose</td>\n",
       "      <td>phoneSystems</td>\n",
       "      <td></td>\n",
       "    </tr>\n",
       "    <tr>\n",
       "      <th>4</th>\n",
       "      <td>21</td>\n",
       "      <td>audio</td>\n",
       "      <td>2362</td>\n",
       "      <td>0.0</td>\n",
       "      <td>language_id</td>\n",
       "      <td>eng-us</td>\n",
       "      <td></td>\n",
       "    </tr>\n",
       "  </tbody>\n",
       "</table>\n",
       "</div>"
      ],
      "text/plain": [
       "   sample_id category pro_id  booking_score     attribute_name  \\\n",
       "0          7    audio     D6            0.0            purpose   \n",
       "1          7    audio     D6            0.0        language_id   \n",
       "2          7    audio     D6            0.0  gender_and_age_id   \n",
       "3         21    audio   2362            0.0            purpose   \n",
       "4         21    audio   2362            0.0        language_id   \n",
       "\n",
       "    attribute_value if_article_specs  \n",
       "0      phoneSystems                   \n",
       "1            eng-us                   \n",
       "2  youngAdultFemale                   \n",
       "3      phoneSystems                   \n",
       "4            eng-us                   "
      ]
     },
     "execution_count": 293,
     "metadata": {},
     "output_type": "execute_result"
    }
   ],
   "source": [
    "sample_attributes.fillna(\"\",inplace=True)\n",
    "sample_attributes.loc[:,'if_article_specs']=sample_attributes.apply(lambda k: k['attribute_name'].split(\"_\")[-1] if k['attribute_name'] in ['tone_serious_humorous','tone_sincere_sarcastic','tone_journalistic_creative'] and to_float(k['attribute_value'])>0 else \"\",axis=1)\n",
    "sample_attributes.head()"
   ]
  },
  {
   "cell_type": "code",
   "execution_count": 125,
   "metadata": {},
   "outputs": [
    {
     "data": {
      "text/plain": [
       "audio      602586\n",
       "article     22968\n",
       "video        3692\n",
       "image        2838\n",
       "Name: category, dtype: int64"
      ]
     },
     "execution_count": 125,
     "metadata": {},
     "output_type": "execute_result"
    }
   ],
   "source": [
    "sample_attributes.category.value_counts()"
   ]
  },
  {
   "cell_type": "code",
   "execution_count": 294,
   "metadata": {},
   "outputs": [],
   "source": [
    "attributes_by_category={\n",
    "    \"audio\":['purpose','language_id','gender_and_age_id'],\n",
    "    \"video\": ['sample_language','purpose','keywords'],\n",
    "    \"image\": ['sample_language',\"sample_purpose\",\"sample_service\"],\n",
    "    \"article\": ['article_language_id','keywords','if_article_specs']\n",
    "    }"
   ]
  },
  {
   "cell_type": "code",
   "execution_count": 295,
   "metadata": {},
   "outputs": [],
   "source": [
    "rows_to_keep=sample_attributes.apply(lambda k: True if k['attribute_name'] in attributes_by_category[k['category']] else False, axis=1)"
   ]
  },
  {
   "cell_type": "code",
   "execution_count": 296,
   "metadata": {},
   "outputs": [],
   "source": [
    "## new sample_attributes file\n",
    "sample_attributes=sample_attributes.loc[rows_to_keep,:]"
   ]
  },
  {
   "cell_type": "code",
   "execution_count": 297,
   "metadata": {},
   "outputs": [
    {
     "data": {
      "text/plain": [
       "'english american'"
      ]
     },
     "execution_count": 297,
     "metadata": {},
     "output_type": "execute_result"
    }
   ],
   "source": [
    "##some hard-coded examples for this test\n",
    "\n",
    "REPLACEMENT_LANGUAGES={\n",
    "\n",
    "    'eng':'english',\n",
    "    'spa': 'spanish',\n",
    "    'fra': 'french',\n",
    "    'por': 'portuguese',\n",
    "    'deu': 'german',\n",
    "    'jpn': 'japanese',\n",
    "    'kor':'korean',\n",
    "    'tur':'turkish',\n",
    "    'dan':'danish',\n",
    "    'latam':'latino',\n",
    "    'uk': 'british',\n",
    "    'fr': 'france',\n",
    "    'us':'american'}\n",
    "\n",
    "\n",
    "def decode_language_code(lang_code:str,decoder_dict=REPLACEMENT_LANGUAGES):\n",
    "    lang_code=lang_code.lower().split(\"-\")\n",
    "    lang_code=[word if word not in decoder_dict.keys() else decoder_dict[word] for word in lang_code]\n",
    "    return \" \".join(lang_code)\n",
    "\n",
    "decode_language_code(\"eng-us\")"
   ]
  },
  {
   "cell_type": "code",
   "execution_count": 298,
   "metadata": {},
   "outputs": [],
   "source": [
    "#modify attributes value to be more specific\n",
    "sample_attributes.loc[:,'attribute_value']=sample_attributes.apply(lambda d: clean_sentence(str(d['attribute_value'])) if \"language\" not in d['attribute_name'] else decode_language_code(str(d['attribute_value'])),axis=1)"
   ]
  },
  {
   "cell_type": "code",
   "execution_count": 299,
   "metadata": {},
   "outputs": [],
   "source": [
    "#concatenate attribute_value in one single column\n",
    "sample_attributes.loc[:,'attribute_value']=sample_attributes.attribute_value+\"\"+sample_attributes.if_article_specs"
   ]
  },
  {
   "cell_type": "code",
   "execution_count": 301,
   "metadata": {},
   "outputs": [
    {
     "data": {
      "text/html": [
       "<div>\n",
       "<style scoped>\n",
       "    .dataframe tbody tr th:only-of-type {\n",
       "        vertical-align: middle;\n",
       "    }\n",
       "\n",
       "    .dataframe tbody tr th {\n",
       "        vertical-align: top;\n",
       "    }\n",
       "\n",
       "    .dataframe thead th {\n",
       "        text-align: right;\n",
       "    }\n",
       "</style>\n",
       "<table border=\"1\" class=\"dataframe\">\n",
       "  <thead>\n",
       "    <tr style=\"text-align: right;\">\n",
       "      <th></th>\n",
       "      <th>sample_id</th>\n",
       "      <th>category</th>\n",
       "      <th>attribute_value</th>\n",
       "    </tr>\n",
       "  </thead>\n",
       "  <tbody>\n",
       "    <tr>\n",
       "      <th>78048</th>\n",
       "      <td>227439</td>\n",
       "      <td>article</td>\n",
       "      <td>onetwothree english american</td>\n",
       "    </tr>\n",
       "    <tr>\n",
       "      <th>78123</th>\n",
       "      <td>227621</td>\n",
       "      <td>article</td>\n",
       "      <td>social medium blog traffic googleranking engli...</td>\n",
       "    </tr>\n",
       "    <tr>\n",
       "      <th>78236</th>\n",
       "      <td>227899</td>\n",
       "      <td>article</td>\n",
       "      <td>english american</td>\n",
       "    </tr>\n",
       "    <tr>\n",
       "      <th>78738</th>\n",
       "      <td>229077</td>\n",
       "      <td>article</td>\n",
       "      <td>english american</td>\n",
       "    </tr>\n",
       "    <tr>\n",
       "      <th>78946</th>\n",
       "      <td>229567</td>\n",
       "      <td>article</td>\n",
       "      <td>english american</td>\n",
       "    </tr>\n",
       "    <tr>\n",
       "      <th>...</th>\n",
       "      <td>...</td>\n",
       "      <td>...</td>\n",
       "      <td>...</td>\n",
       "    </tr>\n",
       "    <tr>\n",
       "      <th>205013</th>\n",
       "      <td>524487</td>\n",
       "      <td>article</td>\n",
       "      <td>writingmotivationalselfhelp english american</td>\n",
       "    </tr>\n",
       "    <tr>\n",
       "      <th>205131</th>\n",
       "      <td>524762</td>\n",
       "      <td>article</td>\n",
       "      <td>mental healthcovid19frontline worker english a...</td>\n",
       "    </tr>\n",
       "    <tr>\n",
       "      <th>205132</th>\n",
       "      <td>524764</td>\n",
       "      <td>article</td>\n",
       "      <td>english american</td>\n",
       "    </tr>\n",
       "    <tr>\n",
       "      <th>205154</th>\n",
       "      <td>524816</td>\n",
       "      <td>article</td>\n",
       "      <td>english american</td>\n",
       "    </tr>\n",
       "    <tr>\n",
       "      <th>205214</th>\n",
       "      <td>524956</td>\n",
       "      <td>article</td>\n",
       "      <td>english american</td>\n",
       "    </tr>\n",
       "  </tbody>\n",
       "</table>\n",
       "<p>2552 rows × 3 columns</p>\n",
       "</div>"
      ],
      "text/plain": [
       "        sample_id category                                    attribute_value\n",
       "78048      227439  article                       onetwothree english american\n",
       "78123      227621  article  social medium blog traffic googleranking engli...\n",
       "78236      227899  article                                   english american\n",
       "78738      229077  article                                   english american\n",
       "78946      229567  article                                   english american\n",
       "...           ...      ...                                                ...\n",
       "205013     524487  article       writingmotivationalselfhelp english american\n",
       "205131     524762  article  mental healthcovid19frontline worker english a...\n",
       "205132     524764  article                                   english american\n",
       "205154     524816  article                                   english american\n",
       "205214     524956  article                                   english american\n",
       "\n",
       "[2552 rows x 3 columns]"
      ]
     },
     "execution_count": 301,
     "metadata": {},
     "output_type": "execute_result"
    }
   ],
   "source": [
    "sample_attributes.groupby(['sample_id','category'])['attribute_value'].agg(lambda d: \" \".join(list(set(d)))).reset_index().query(\"category=='article'\")"
   ]
  },
  {
   "cell_type": "code",
   "execution_count": 307,
   "metadata": {},
   "outputs": [
    {
     "data": {
      "text/html": [
       "<div>\n",
       "<style scoped>\n",
       "    .dataframe tbody tr th:only-of-type {\n",
       "        vertical-align: middle;\n",
       "    }\n",
       "\n",
       "    .dataframe tbody tr th {\n",
       "        vertical-align: top;\n",
       "    }\n",
       "\n",
       "    .dataframe thead th {\n",
       "        text-align: right;\n",
       "    }\n",
       "</style>\n",
       "<table border=\"1\" class=\"dataframe\">\n",
       "  <thead>\n",
       "    <tr style=\"text-align: right;\">\n",
       "      <th></th>\n",
       "      <th>sample_id</th>\n",
       "      <th>category</th>\n",
       "      <th>tag_name</th>\n",
       "    </tr>\n",
       "  </thead>\n",
       "  <tbody>\n",
       "    <tr>\n",
       "      <th>0</th>\n",
       "      <td>324</td>\n",
       "      <td>audio</td>\n",
       "      <td>articulate,English US - General American,neutr...</td>\n",
       "    </tr>\n",
       "    <tr>\n",
       "      <th>1</th>\n",
       "      <td>350</td>\n",
       "      <td>audio</td>\n",
       "      <td>Educational,Calm,Approachable</td>\n",
       "    </tr>\n",
       "    <tr>\n",
       "      <th>2</th>\n",
       "      <td>441</td>\n",
       "      <td>audio</td>\n",
       "      <td>Announcer,English US - General American,neutra...</td>\n",
       "    </tr>\n",
       "    <tr>\n",
       "      <th>3</th>\n",
       "      <td>499</td>\n",
       "      <td>audio</td>\n",
       "      <td>English US - General American,authentic,neutra...</td>\n",
       "    </tr>\n",
       "    <tr>\n",
       "      <th>4</th>\n",
       "      <td>964</td>\n",
       "      <td>audio</td>\n",
       "      <td>Instructor,English US - General American,neutr...</td>\n",
       "    </tr>\n",
       "  </tbody>\n",
       "</table>\n",
       "</div>"
      ],
      "text/plain": [
       "   sample_id category                                           tag_name\n",
       "0        324    audio  articulate,English US - General American,neutr...\n",
       "1        350    audio                      Educational,Calm,Approachable\n",
       "2        441    audio  Announcer,English US - General American,neutra...\n",
       "3        499    audio  English US - General American,authentic,neutra...\n",
       "4        964    audio  Instructor,English US - General American,neutr..."
      ]
     },
     "execution_count": 307,
     "metadata": {},
     "output_type": "execute_result"
    }
   ],
   "source": [
    "sample_descriptions=sample_tags.groupby([\"sample_id\",\"category\"])[\"tag_name\"].agg(lambda d: \",\".join(list(set(d)))).reset_index()\n",
    "sample_descriptions.head()"
   ]
  },
  {
   "cell_type": "code",
   "execution_count": 29,
   "metadata": {},
   "outputs": [
    {
     "name": "stdout",
     "output_type": "stream",
     "text": [
      "(632084, 6)\n",
      "   sample_id category pro_id  booking_score     attribute_name  \\\n",
      "0          7    audio     D6            0.0            purpose   \n",
      "1          7    audio     D6            0.0        language_id   \n",
      "2          7    audio     D6            0.0  gender_and_age_id   \n",
      "3         21    audio   2362            0.0            purpose   \n",
      "4         21    audio   2362            0.0        language_id   \n",
      "\n",
      "    attribute_value  \n",
      "0      phoneSystems  \n",
      "1            eng-us  \n",
      "2  youngAdultFemale  \n",
      "3      phoneSystems  \n",
      "4            eng-us  \n"
     ]
    }
   ],
   "source": [
    "print(sample_attributes.shape)\n",
    "print(sample_attributes.head())\n"
   ]
  },
  {
   "cell_type": "code",
   "execution_count": null,
   "metadata": {},
   "outputs": [],
   "source": [
    "##join tags and samples and remove duplicated words \n",
    "##generate embeddings for descriptions and search terms"
   ]
  },
  {
   "cell_type": "code",
   "execution_count": 49,
   "metadata": {},
   "outputs": [],
   "source": [
    "import spacy\n",
    "from spacy.matcher import Matcher\n",
    "nlp=spacy.load('en_core_web_sm')\n",
    "\n",
    "matcher = Matcher(nlp.vocab)\n",
    "pattern = [{\"LOWER\": \"hello\"}, {\"LOWER\": \"world\"}]\n",
    "matcher.add(\"pattern1\", [pattern])\n",
    "doc = nlp(\"uk voice over eng\")\n",
    "matches = matcher(doc)\n",
    "\n",
    "    "
   ]
  },
  {
   "cell_type": "code",
   "execution_count": 82,
   "metadata": {},
   "outputs": [
    {
     "data": {
      "text/plain": [
       "['uk', 'eng']"
      ]
     },
     "execution_count": 82,
     "metadata": {},
     "output_type": "execute_result"
    }
   ],
   "source": [
    "def augment_language(sentence:str):\n",
    "   finder=re.compile(\"(?i:eng|spa|ger|uk)\")\n",
    "   return re.findall(finder,sentence)\n",
    "\n",
    "augment_language(\"uk voice over english\")   "
   ]
  },
  {
   "cell_type": "code",
   "execution_count": 87,
   "metadata": {},
   "outputs": [
    {
     "name": "stderr",
     "output_type": "stream",
     "text": [
      "Downloading: 100%|██████████| 737/737 [00:00<00:00, 736kB/s]\n",
      "Downloading: 100%|██████████| 9.90k/9.90k [00:00<00:00, 6.60MB/s]\n",
      "Downloading: 100%|██████████| 573/573 [00:00<00:00, 572kB/s]\n",
      "Downloading: 100%|██████████| 116/116 [00:00<00:00, 116kB/s]\n",
      "Downloading: 100%|██████████| 15.7k/15.7k [00:00<00:00, 15.7MB/s]\n",
      "Downloading: 100%|██████████| 349/349 [00:00<00:00, 349kB/s]\n",
      "Downloading: 100%|██████████| 134M/134M [00:04<00:00, 29.4MB/s] \n",
      "Downloading: 100%|██████████| 53.0/53.0 [00:00<00:00, 53.0kB/s]\n",
      "Downloading: 100%|██████████| 112/112 [00:00<00:00, 112kB/s]\n",
      "Downloading: 100%|██████████| 466k/466k [00:00<00:00, 1.23MB/s]\n",
      "Downloading: 100%|██████████| 352/352 [00:00<00:00, 352kB/s]\n",
      "Downloading: 100%|██████████| 13.2k/13.2k [00:00<00:00, 13.2MB/s]\n",
      "Downloading: 100%|██████████| 232k/232k [00:00<00:00, 700kB/s] \n",
      "Downloading: 100%|██████████| 190/190 [00:00<00:00, 190kB/s]\n"
     ]
    }
   ],
   "source": [
    "from sentence_transformers import SentenceTransformer\n",
    "MODEL_NAME_HF=\"all-MiniLM-L12-v1\"\n",
    "model = SentenceTransformer(MODEL_NAME_HF)"
   ]
  },
  {
   "cell_type": "code",
   "execution_count": 274,
   "metadata": {},
   "outputs": [
    {
     "data": {
      "text/plain": [
       "0.6134414"
      ]
     },
     "execution_count": 274,
     "metadata": {},
     "output_type": "execute_result"
    }
   ],
   "source": [
    "from sentence_transformers import util\n",
    "\n",
    "\n",
    "def cosine_sim(vec1,vec2):\n",
    "    return np.dot(vec1, vec2)/(np.linalg.norm(vec1)*np.linalg.norm(vec2))\n",
    "\n",
    "sentence1=\"british\"\n",
    "sentence2=\"united kingdom\"\n",
    "emb1=model.encode(sentence1)\n",
    "emb2=model.encode(sentence2)\n",
    "\n",
    "cosine_sim(emb1,emb2)"
   ]
  },
  {
   "cell_type": "code",
   "execution_count": 26,
   "metadata": {},
   "outputs": [],
   "source": [
    "class SearchRecommender:\n",
    "    \n",
    "    def __init__(self,samples_filepath: str,pros_filepath: str,tags_filepath: str,separator=\",\"):\n",
    "        \n",
    "        self.samples=pd.read_csv(samples_filepath,sep=separator)\n",
    "        self.pros=pd.read_csv(pros_filepath,sep=separator)\n",
    "        self.tags=pd.read_csv(tags_filepath,sep=separator)\n",
    "        self.model=SentenceTransformer(MODEL_NAME_HF)\n",
    "\n",
    "\n",
    "    @staticmethod\n",
    "    def preprocess_data():\n",
    "        pass\n",
    "    \n",
    "    def detect_intent(search: str):\n",
    "        pass\n",
    "\n",
    "    def suggest_samples(search: str,top_n: int=50):\n",
    "        pass\n",
    "\n",
    "\n",
    "\n",
    "    \n",
    "        "
   ]
  }
 ],
 "metadata": {
  "interpreter": {
   "hash": "94f342b5774f3b0269f7de90f71f08146fbd0694077eadaf6e909336ed9c3d31"
  },
  "kernelspec": {
   "display_name": "Python 3.9.5 64-bit ('base': conda)",
   "language": "python",
   "name": "python3"
  },
  "language_info": {
   "codemirror_mode": {
    "name": "ipython",
    "version": 3
   },
   "file_extension": ".py",
   "mimetype": "text/x-python",
   "name": "python",
   "nbconvert_exporter": "python",
   "pygments_lexer": "ipython3",
   "version": "3.9.5"
  },
  "orig_nbformat": 4
 },
 "nbformat": 4,
 "nbformat_minor": 2
}
