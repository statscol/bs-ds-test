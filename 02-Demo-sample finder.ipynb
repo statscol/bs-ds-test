{
 "cells": [
  {
   "cell_type": "markdown",
   "metadata": {},
   "source": [
    "## Bunny Studio\n",
    "### Search Data Scientist Test Part II\n",
    "\n",
    "Objective:\n",
    "\n",
    "- Usage of the class **SearchRecommender** to find samples given a search pattern (string)\n"
   ]
  },
  {
   "cell_type": "code",
   "execution_count": 2,
   "metadata": {},
   "outputs": [],
   "source": [
    "##lets import some libraries to read and manipulate data\n",
    "import pandas as pd\n",
    "import os\n",
    "import numpy as np\n",
    "import seaborn as sns\n",
    "import matplotlib.pyplot as plt\n",
    "from samples_finder import *\n",
    "\n",
    "##pre-defined search terms \n",
    "with open(\"search_terms.txt\",\"r\") as f:\n",
    "    file=[line.replace(\"\\n\",\"\").strip() for line in f.readlines()]"
   ]
  },
  {
   "cell_type": "markdown",
   "metadata": {},
   "source": [
    "## Creating an instance of SearchRecommender\n",
    "\n",
    "This auxiliar class was created in order to join all the steps involved in the problem of finding samples based on an specific search pattern given by a user. The workflow is as follows:\n"
   ]
  },
  {
   "cell_type": "code",
   "execution_count": null,
   "metadata": {},
   "outputs": [],
   "source": [
    "finder=SearchRecommender()\n"
   ]
  },
  {
   "cell_type": "code",
   "execution_count": null,
   "metadata": {},
   "outputs": [],
   "source": [
    "#"
   ]
  }
 ],
 "metadata": {
  "interpreter": {
   "hash": "94f342b5774f3b0269f7de90f71f08146fbd0694077eadaf6e909336ed9c3d31"
  },
  "kernelspec": {
   "display_name": "Python 3.9.5 64-bit ('base': conda)",
   "language": "python",
   "name": "python3"
  },
  "language_info": {
   "codemirror_mode": {
    "name": "ipython",
    "version": 3
   },
   "file_extension": ".py",
   "mimetype": "text/x-python",
   "name": "python",
   "nbconvert_exporter": "python",
   "pygments_lexer": "ipython3",
   "version": "3.9.5"
  },
  "orig_nbformat": 4
 },
 "nbformat": 4,
 "nbformat_minor": 2
}
