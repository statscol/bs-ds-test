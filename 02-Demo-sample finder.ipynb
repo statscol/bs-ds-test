{
 "cells": [
  {
   "cell_type": "markdown",
   "metadata": {},
   "source": [
    "## Bunny Studio\n",
    "### Search Data Scientist Test Part II\n",
    "\n",
    "Objective:\n",
    "\n",
    "- Usage of the class **SearchRecommender** to find samples given a search pattern (string)\n"
   ]
  },
  {
   "cell_type": "code",
   "execution_count": 1,
   "metadata": {},
   "outputs": [
    {
     "name": "stderr",
     "output_type": "stream",
     "text": [
      "[nltk_data] Downloading package wordnet to\n",
      "[nltk_data]     C:\\Users\\jhonp\\AppData\\Roaming\\nltk_data...\n",
      "[nltk_data]   Package wordnet is already up-to-date!\n",
      "[nltk_data] Downloading package omw-1.4 to\n",
      "[nltk_data]     C:\\Users\\jhonp\\AppData\\Roaming\\nltk_data...\n",
      "[nltk_data]   Package omw-1.4 is already up-to-date!\n"
     ]
    }
   ],
   "source": [
    "##lets import some libraries to read and manipulate data\n",
    "import pandas as pd\n",
    "import os\n",
    "import numpy as np\n",
    "import seaborn as sns\n",
    "import matplotlib.pyplot as plt\n",
    "from samples_finder import *\n",
    "\n",
    "##pre-defined search terms \n",
    "with open(\"search_terms.txt\",\"r\") as f:\n",
    "    file=[line.replace(\"\\n\",\"\").strip() for line in f.readlines()]"
   ]
  },
  {
   "cell_type": "markdown",
   "metadata": {},
   "source": [
    "## Creating an instance of SearchRecommender\n",
    "\n",
    "This auxiliar class was created in order to concatenate every step involved in the problem of finding samples based on an specific search pattern given by the client. To use the class follow the next steps:\n",
    "\n",
    "1. Instanciate the class\n",
    "2. Define a search pattern\n",
    "3. Use the class built-in method to suggest samples\n",
    "4. (optional) use the built-in generator method to return fixed-size batches with non-repeated pro's id per batch\n"
   ]
  },
  {
   "cell_type": "code",
   "execution_count": 7,
   "metadata": {},
   "outputs": [],
   "source": [
    "#1 Instanciate the class\n",
    "finder=SearchRecommender()"
   ]
  },
  {
   "cell_type": "code",
   "execution_count": 8,
   "metadata": {},
   "outputs": [
    {
     "name": "stdout",
     "output_type": "stream",
     "text": [
      "[INFO] Similarities created\n"
     ]
    },
    {
     "data": {
      "text/html": [
       "<div>\n",
       "<style scoped>\n",
       "    .dataframe tbody tr th:only-of-type {\n",
       "        vertical-align: middle;\n",
       "    }\n",
       "\n",
       "    .dataframe tbody tr th {\n",
       "        vertical-align: top;\n",
       "    }\n",
       "\n",
       "    .dataframe thead th {\n",
       "        text-align: right;\n",
       "    }\n",
       "</style>\n",
       "<table border=\"1\" class=\"dataframe\">\n",
       "  <thead>\n",
       "    <tr style=\"text-align: right;\">\n",
       "      <th></th>\n",
       "      <th>sample_id</th>\n",
       "      <th>category</th>\n",
       "      <th>pro_id</th>\n",
       "      <th>attribute_value</th>\n",
       "      <th>tag_name</th>\n",
       "      <th>similarity</th>\n",
       "      <th>performance_score</th>\n",
       "    </tr>\n",
       "  </thead>\n",
       "  <tbody>\n",
       "    <tr>\n",
       "      <th>0</th>\n",
       "      <td>379244</td>\n",
       "      <td>audio</td>\n",
       "      <td>64320</td>\n",
       "      <td>english american videogames child boy</td>\n",
       "      <td>child neutral conversational</td>\n",
       "      <td>0.657727</td>\n",
       "      <td>40.0</td>\n",
       "    </tr>\n",
       "    <tr>\n",
       "      <th>1</th>\n",
       "      <td>451299</td>\n",
       "      <td>audio</td>\n",
       "      <td>64320</td>\n",
       "      <td>english american videogames child boy</td>\n",
       "      <td>kid conversational</td>\n",
       "      <td>0.643179</td>\n",
       "      <td>40.0</td>\n",
       "    </tr>\n",
       "    <tr>\n",
       "      <th>2</th>\n",
       "      <td>227656</td>\n",
       "      <td>audio</td>\n",
       "      <td>64320</td>\n",
       "      <td>english american videogames child boy</td>\n",
       "      <td></td>\n",
       "      <td>0.639075</td>\n",
       "      <td>40.0</td>\n",
       "    </tr>\n",
       "    <tr>\n",
       "      <th>3</th>\n",
       "      <td>477757</td>\n",
       "      <td>audio</td>\n",
       "      <td>64320</td>\n",
       "      <td>english american videogames child boy</td>\n",
       "      <td></td>\n",
       "      <td>0.639075</td>\n",
       "      <td>40.0</td>\n",
       "    </tr>\n",
       "    <tr>\n",
       "      <th>4</th>\n",
       "      <td>286944</td>\n",
       "      <td>audio</td>\n",
       "      <td>64320</td>\n",
       "      <td>english american videogames child boy</td>\n",
       "      <td></td>\n",
       "      <td>0.639075</td>\n",
       "      <td>40.0</td>\n",
       "    </tr>\n",
       "  </tbody>\n",
       "</table>\n",
       "</div>"
      ],
      "text/plain": [
       "   sample_id category pro_id                        attribute_value  \\\n",
       "0     379244    audio  64320  english american videogames child boy   \n",
       "1     451299    audio  64320  english american videogames child boy   \n",
       "2     227656    audio  64320  english american videogames child boy   \n",
       "3     477757    audio  64320  english american videogames child boy   \n",
       "4     286944    audio  64320  english american videogames child boy   \n",
       "\n",
       "                       tag_name  similarity  performance_score  \n",
       "0  child neutral conversational    0.657727               40.0  \n",
       "1            kid conversational    0.643179               40.0  \n",
       "2                                  0.639075               40.0  \n",
       "3                                  0.639075               40.0  \n",
       "4                                  0.639075               40.0  "
      ]
     },
     "execution_count": 8,
     "metadata": {},
     "output_type": "execute_result"
    }
   ],
   "source": [
    "#2 define search pattern\n",
    "search_pattern=\"Child voice for videogame character\"\n",
    "#3 apply transformation steps and compute similarities\n",
    "full_results=finder.get_suggestions(search=search_pattern)\n",
    "full_results.head()"
   ]
  },
  {
   "cell_type": "code",
   "execution_count": 9,
   "metadata": {},
   "outputs": [],
   "source": [
    "#4 using results_by_batch, we obtain a list of similarities and results. For every item in those lists, one can find if the batch has acceptable similarity with the search pattern. This metric ranges from -1 to 1, where the closer to 1, the better.\n",
    "similarities,sample_batches=finder.results_by_batch(full_results)"
   ]
  },
  {
   "cell_type": "markdown",
   "metadata": {},
   "source": [
    "### Final Remarks\n",
    "\n",
    "- SearchRecommender is a small solution to the problem of suggesting samples given a search pattern\n",
    "- It can be improved by using a more robust performance score for PRO's and an adequate tool to compute attributes and tags embeddings like Haystack/ElasticSearch"
   ]
  }
 ],
 "metadata": {
  "interpreter": {
   "hash": "94f342b5774f3b0269f7de90f71f08146fbd0694077eadaf6e909336ed9c3d31"
  },
  "kernelspec": {
   "display_name": "Python 3.9.5 64-bit ('base': conda)",
   "language": "python",
   "name": "python3"
  },
  "language_info": {
   "codemirror_mode": {
    "name": "ipython",
    "version": 3
   },
   "file_extension": ".py",
   "mimetype": "text/x-python",
   "name": "python",
   "nbconvert_exporter": "python",
   "pygments_lexer": "ipython3",
   "version": "3.9.5"
  },
  "orig_nbformat": 4
 },
 "nbformat": 4,
 "nbformat_minor": 2
}
